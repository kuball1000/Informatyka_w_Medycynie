{
 "cells": [
  {
   "cell_type": "markdown",
   "id": "9ace13e0",
   "metadata": {},
   "source": [
    "# Informatyka w Medycynie - Symulator tomografu\n",
    "#### Jakub Buler 155987\n",
    "#### Adam Detmer 155976"
   ]
  },
  {
   "cell_type": "code",
   "execution_count": 3,
   "id": "6d3573f4",
   "metadata": {},
   "outputs": [],
   "source": [
    "import datetime\n",
    "import os\n",
    "import numpy as np\n",
    "\n",
    "from functools import partial\n",
    "from multiprocessing import Pool\n",
    "\n",
    "from math import degrees, radians\n",
    "from pprint import pprint\n",
    "\n",
    "from skimage.data import shepp_logan_phantom\n",
    "from skimage.io import imread\n",
    "from skimage.color import gray2rgb, rgb2gray\n",
    "\n",
    "from scipy.fftpack import fft, ifft, fftfreq\n",
    "import matplotlib.pyplot as plt\n",
    "%matplotlib inline\n",
    "import pydicom"
   ]
  },
  {
   "cell_type": "code",
   "execution_count": 2,
   "id": "953cf09b",
   "metadata": {},
   "outputs": [],
   "source": [
    "# DICOM file compatibility\n",
    "from pydicom.dataset import Dataset, FileDataset\n",
    "import pydicom._storage_sopclass_uids\n",
    "from skimage.util import img_as_ubyte\n",
    "from skimage.exposure import rescale_intensity"
   ]
  },
  {
   "cell_type": "code",
   "execution_count": null,
   "id": "2d888217",
   "metadata": {},
   "outputs": [],
   "source": [
    "# x1 , y1 - współrzędne początku odcinka\n",
    "# x2 , y2 - współrzędne końca odcinka\n",
    "def BresenhamLine(x1, y1, x2, y2):\n",
    "    x, y = x1, y1\n",
    "    result = []\n",
    "    \n",
    "    if (x1 < x2):\n",
    "        xi = 1\n",
    "        dx = x2 - x1\n",
    "    else:\n",
    "        xi = -1\n",
    "        dx = x1 - x2\n",
    "    \n",
    "    if (y1 < y2):\n",
    "        yi = 1\n",
    "        dy = y2 - y1\n",
    "    else:\n",
    "        yi = -1\n",
    "        dy = y1 - y2\n",
    "        \n",
    "    # pierwszy piksel\n",
    "    result.append([x, y])\n",
    "    \n",
    "    if (dx > dy):\n",
    "        ai = (dy - dx) * 2\n",
    "        bi = dy * 2\n",
    "        d = bi - dx\n",
    "        \n",
    "        while (x != x2):\n",
    "            if (d >= 0):\n",
    "                x += xi\n",
    "                y += yi\n",
    "                d += ai\n",
    "            else:\n",
    "                d += bi\n",
    "                x += xi\n",
    "                \n",
    "           result.append([x, y])\n",
    "    else:\n",
    "        ai = ( dx - dy ) * 2\n",
    "        bi = dx * 2\n",
    "        d = bi - dy\n",
    "        \n",
    "        while (y != y2):\n",
    "            if (d >= 0):\n",
    "                x += xi\n",
    "                y += yi\n",
    "                d += ai\n",
    "            else:\n",
    "                d += bi\n",
    "                y += yi\n",
    "                \n",
    "            result.append([x, y])\n",
    "            \n",
    "    return result"
   ]
  },
  {
   "cell_type": "code",
   "execution_count": 1,
   "id": "49854027",
   "metadata": {},
   "outputs": [
    {
     "ename": "NameError",
     "evalue": "name 'imageio' is not defined",
     "output_type": "error",
     "traceback": [
      "\u001b[1;31m---------------------------------------------------------------------------\u001b[0m",
      "\u001b[1;31mNameError\u001b[0m                                 Traceback (most recent call last)",
      "\u001b[1;32m~\\AppData\\Local\\Temp\\ipykernel_20692\\1688696825.py\u001b[0m in \u001b[0;36m<module>\u001b[1;34m\u001b[0m\n\u001b[0;32m      2\u001b[0m \u001b[0mimage_path\u001b[0m \u001b[1;33m=\u001b[0m \u001b[1;34m'zdj_tomo/Shepp_logan.jpg'\u001b[0m\u001b[1;33m\u001b[0m\u001b[1;33m\u001b[0m\u001b[0m\n\u001b[0;32m      3\u001b[0m \u001b[1;33m\u001b[0m\u001b[0m\n\u001b[1;32m----> 4\u001b[1;33m \u001b[0minput_col\u001b[0m \u001b[1;33m=\u001b[0m \u001b[0mimageio\u001b[0m\u001b[1;33m.\u001b[0m\u001b[0mimread\u001b[0m\u001b[1;33m(\u001b[0m\u001b[0mimage_path\u001b[0m\u001b[1;33m)\u001b[0m\u001b[1;33m\u001b[0m\u001b[1;33m\u001b[0m\u001b[0m\n\u001b[0m",
      "\u001b[1;31mNameError\u001b[0m: name 'imageio' is not defined"
     ]
    }
   ],
   "source": [
    "# Wczytaj i zrz\n",
    "image_path = 'zdj_tomo/Shepp_logan.jpg'\n",
    "\n",
    "input_col = imageio.imread(image_path)"
   ]
  },
  {
   "cell_type": "code",
   "execution_count": null,
   "id": "846c3bdb",
   "metadata": {},
   "outputs": [],
   "source": []
  },
  {
   "cell_type": "code",
   "execution_count": null,
   "id": "9a53733a",
   "metadata": {},
   "outputs": [],
   "source": []
  }
 ],
 "metadata": {
  "kernelspec": {
   "display_name": "Python 3 (ipykernel)",
   "language": "python",
   "name": "python3"
  },
  "language_info": {
   "codemirror_mode": {
    "name": "ipython",
    "version": 3
   },
   "file_extension": ".py",
   "mimetype": "text/x-python",
   "name": "python",
   "nbconvert_exporter": "python",
   "pygments_lexer": "ipython3",
   "version": "3.9.13"
  }
 },
 "nbformat": 4,
 "nbformat_minor": 5
}
